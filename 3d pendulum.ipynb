{
 "cells": [
  {
   "cell_type": "code",
   "execution_count": 1,
   "id": "620d899d",
   "metadata": {},
   "outputs": [
    {
     "name": "stderr",
     "output_type": "stream",
     "text": [
      "WARNING: Retrying (Retry(total=4, connect=None, read=None, redirect=None, status=None)) after connection broken by 'NewConnectionError('<pip._vendor.urllib3.connection.HTTPSConnection object at 0x000002714B7B42E0>: Failed to establish a new connection: [Errno 11001] getaddrinfo failed')': /simple/sympy/\n",
      "WARNING: Retrying (Retry(total=3, connect=None, read=None, redirect=None, status=None)) after connection broken by 'NewConnectionError('<pip._vendor.urllib3.connection.HTTPSConnection object at 0x000002714B7B41C0>: Failed to establish a new connection: [Errno 11001] getaddrinfo failed')': /simple/sympy/\n",
      "WARNING: Retrying (Retry(total=2, connect=None, read=None, redirect=None, status=None)) after connection broken by 'NewConnectionError('<pip._vendor.urllib3.connection.HTTPSConnection object at 0x000002714B7B4B20>: Failed to establish a new connection: [Errno 11001] getaddrinfo failed')': /simple/sympy/\n",
      "WARNING: Retrying (Retry(total=1, connect=None, read=None, redirect=None, status=None)) after connection broken by 'NewConnectionError('<pip._vendor.urllib3.connection.HTTPSConnection object at 0x000002714B7B4CD0>: Failed to establish a new connection: [Errno 11001] getaddrinfo failed')': /simple/sympy/\n",
      "WARNING: Retrying (Retry(total=0, connect=None, read=None, redirect=None, status=None)) after connection broken by 'NewConnectionError('<pip._vendor.urllib3.connection.HTTPSConnection object at 0x000002714B7B4E80>: Failed to establish a new connection: [Errno 11001] getaddrinfo failed')': /simple/sympy/\n",
      "ERROR: Could not find a version that satisfies the requirement sympy==1.6.2 (from versions: none)\n",
      "ERROR: No matching distribution found for sympy==1.6.2\n"
     ]
    }
   ],
   "source": [
    "!pip install sympy==1.6.2\n"
   ]
  },
  {
   "cell_type": "code",
   "execution_count": 2,
   "id": "630b50b5",
   "metadata": {},
   "outputs": [],
   "source": [
    "import numpy as np\n",
    "import sympy as smp\n",
    "from scipy.integrate import odeint\n",
    "from sympy.solvers.solveset import linsolve, nonlinsolve\n",
    "import matplotlib.pyplot as plt\n"
   ]
  },
  {
   "cell_type": "code",
   "execution_count": 3,
   "id": "41741f31",
   "metadata": {},
   "outputs": [],
   "source": [
    "t, g = smp.symbols('t g')\n",
    "m1, m2 = smp.symbols('m1 m2')\n",
    "L1, L2 = smp.symbols('L1, L2')\n"
   ]
  },
  {
   "cell_type": "code",
   "execution_count": 4,
   "id": "4eec29e5",
   "metadata": {},
   "outputs": [],
   "source": [
    "the1, the2, phi1, phi2 = smp.symbols(r'\\theta_1, \\theta_2 \\phi_1 \\phi_2', cls=smp.Function)\n"
   ]
  },
  {
   "cell_type": "code",
   "execution_count": 5,
   "id": "b9d64476",
   "metadata": {},
   "outputs": [
    {
     "data": {
      "text/plain": [
       "\\theta_1"
      ]
     },
     "execution_count": 5,
     "metadata": {},
     "output_type": "execute_result"
    }
   ],
   "source": [
    "the1\n"
   ]
  },
  {
   "cell_type": "code",
   "execution_count": 6,
   "id": "15337de2",
   "metadata": {},
   "outputs": [],
   "source": [
    "the1 = the1(t)\n",
    "the2 = the2(t)\n",
    "phi1 = phi1(t)\n",
    "phi2 = phi2(t)"
   ]
  },
  {
   "cell_type": "code",
   "execution_count": 7,
   "id": "fa6ff2c1",
   "metadata": {},
   "outputs": [
    {
     "data": {
      "text/latex": [
       "$\\displaystyle \\theta_{1}{\\left(t \\right)}$"
      ],
      "text/plain": [
       "\\theta_1(t)"
      ]
     },
     "execution_count": 7,
     "metadata": {},
     "output_type": "execute_result"
    }
   ],
   "source": [
    "the1"
   ]
  },
  {
   "cell_type": "code",
   "execution_count": 8,
   "id": "966f4ec8",
   "metadata": {},
   "outputs": [
    {
     "data": {
      "text/latex": [
       "$\\displaystyle \\phi_{1}{\\left(t \\right)}$"
      ],
      "text/plain": [
       "\\phi_1(t)"
      ]
     },
     "execution_count": 8,
     "metadata": {},
     "output_type": "execute_result"
    }
   ],
   "source": [
    "phi1"
   ]
  },
  {
   "cell_type": "code",
   "execution_count": 9,
   "id": "c81032c6",
   "metadata": {},
   "outputs": [],
   "source": [
    "the1_d = smp.diff(the1, t)\n",
    "the2_d = smp.diff(the2, t)\n",
    "phi1_d = smp.diff(phi1, t)\n",
    "phi2_d = smp.diff(phi2, t)\n",
    "\n",
    "the1_dd = smp.diff(the1_d, t)\n",
    "the2_dd = smp.diff(the2_d, t)\n",
    "phi1_dd = smp.diff(phi1_d, t)\n",
    "phi2_dd = smp.diff(phi2_d, t)"
   ]
  },
  {
   "cell_type": "code",
   "execution_count": 10,
   "id": "87d8fa4c",
   "metadata": {},
   "outputs": [
    {
     "data": {
      "text/latex": [
       "$\\displaystyle \\frac{d^{2}}{d t^{2}} \\phi_{1}{\\left(t \\right)}$"
      ],
      "text/plain": [
       "Derivative(\\phi_1(t), (t, 2))"
      ]
     },
     "execution_count": 10,
     "metadata": {},
     "output_type": "execute_result"
    }
   ],
   "source": [
    "phi1_dd\n"
   ]
  },
  {
   "cell_type": "code",
   "execution_count": 11,
   "id": "167536af",
   "metadata": {},
   "outputs": [],
   "source": [
    "#koordinat\n",
    "x1 = L1*smp.sin(the1)*smp.cos(phi1)\n",
    "y1 = L1*smp.sin(the1)*smp.sin(phi1)\n",
    "z1 = -L1*smp.cos(the1)\n",
    "x2 = x1 + L2*smp.sin(the2)*smp.cos(phi2)\n",
    "y2 = y1 + L2*smp.sin(the2)*smp.sin(phi2)\n",
    "z2 = z1 -L2*smp.cos(the2)\n"
   ]
  },
  {
   "cell_type": "code",
   "execution_count": 12,
   "id": "c15d6a86",
   "metadata": {},
   "outputs": [
    {
     "data": {
      "text/latex": [
       "$\\displaystyle L_{1} \\sin{\\left(\\theta_{1}{\\left(t \\right)} \\right)} \\cos{\\left(\\phi_{1}{\\left(t \\right)} \\right)}$"
      ],
      "text/plain": [
       "L1*sin(\\theta_1(t))*cos(\\phi_1(t))"
      ]
     },
     "execution_count": 12,
     "metadata": {},
     "output_type": "execute_result"
    }
   ],
   "source": [
    "x1"
   ]
  },
  {
   "cell_type": "code",
   "execution_count": 13,
   "id": "b67ad5bf",
   "metadata": {},
   "outputs": [
    {
     "data": {
      "text/latex": [
       "$\\displaystyle L_{1} \\sin{\\left(\\theta_{1}{\\left(t \\right)} \\right)} \\cos{\\left(\\phi_{1}{\\left(t \\right)} \\right)} + L_{2} \\sin{\\left(\\theta_{2}{\\left(t \\right)} \\right)} \\cos{\\left(\\phi_{2}{\\left(t \\right)} \\right)}$"
      ],
      "text/plain": [
       "L1*sin(\\theta_1(t))*cos(\\phi_1(t)) + L2*sin(\\theta_2(t))*cos(\\phi_2(t))"
      ]
     },
     "execution_count": 13,
     "metadata": {},
     "output_type": "execute_result"
    }
   ],
   "source": [
    "x2"
   ]
  },
  {
   "cell_type": "code",
   "execution_count": 14,
   "id": "856f8723",
   "metadata": {},
   "outputs": [
    {
     "data": {
      "text/latex": [
       "$\\displaystyle L_{1} \\sin{\\left(\\phi_{1}{\\left(t \\right)} \\right)} \\sin{\\left(\\theta_{1}{\\left(t \\right)} \\right)}$"
      ],
      "text/plain": [
       "L1*sin(\\phi_1(t))*sin(\\theta_1(t))"
      ]
     },
     "execution_count": 14,
     "metadata": {},
     "output_type": "execute_result"
    }
   ],
   "source": [
    "y1"
   ]
  },
  {
   "cell_type": "code",
   "execution_count": 15,
   "id": "25c2445f",
   "metadata": {},
   "outputs": [
    {
     "data": {
      "text/latex": [
       "$\\displaystyle L_{1} \\sin{\\left(\\phi_{1}{\\left(t \\right)} \\right)} \\sin{\\left(\\theta_{1}{\\left(t \\right)} \\right)} + L_{2} \\sin{\\left(\\phi_{2}{\\left(t \\right)} \\right)} \\sin{\\left(\\theta_{2}{\\left(t \\right)} \\right)}$"
      ],
      "text/plain": [
       "L1*sin(\\phi_1(t))*sin(\\theta_1(t)) + L2*sin(\\phi_2(t))*sin(\\theta_2(t))"
      ]
     },
     "execution_count": 15,
     "metadata": {},
     "output_type": "execute_result"
    }
   ],
   "source": [
    "y2"
   ]
  },
  {
   "cell_type": "code",
   "execution_count": 16,
   "id": "90be1ce1",
   "metadata": {},
   "outputs": [
    {
     "data": {
      "text/latex": [
       "$\\displaystyle - L_{1} \\cos{\\left(\\theta_{1}{\\left(t \\right)} \\right)}$"
      ],
      "text/plain": [
       "-L1*cos(\\theta_1(t))"
      ]
     },
     "execution_count": 16,
     "metadata": {},
     "output_type": "execute_result"
    }
   ],
   "source": [
    "z1"
   ]
  },
  {
   "cell_type": "code",
   "execution_count": 17,
   "id": "8a806140",
   "metadata": {},
   "outputs": [
    {
     "data": {
      "text/latex": [
       "$\\displaystyle - L_{1} \\cos{\\left(\\theta_{1}{\\left(t \\right)} \\right)} - L_{2} \\cos{\\left(\\theta_{2}{\\left(t \\right)} \\right)}$"
      ],
      "text/plain": [
       "-L1*cos(\\theta_1(t)) - L2*cos(\\theta_2(t))"
      ]
     },
     "execution_count": 17,
     "metadata": {},
     "output_type": "execute_result"
    }
   ],
   "source": [
    "z2"
   ]
  },
  {
   "cell_type": "code",
   "execution_count": 18,
   "id": "05238822",
   "metadata": {},
   "outputs": [],
   "source": [
    "x1_f=smp.lambdify((the1, the2, phi1, phi2, L1, L2), x1)\n",
    "y1_f=smp.lambdify((the1, the2, phi1, phi2, L1, L2), y1)\n",
    "z1_f=smp.lambdify((the1, the2, phi1, phi2, L1, L2), z1)\n",
    "x2_f=smp.lambdify((the1, the2, phi1, phi2, L1, L2), x2)\n",
    "y2_f=smp.lambdify((the1, the2, phi1, phi2, L1, L2), y2)\n",
    "z2_f=smp.lambdify((the1, the2, phi1, phi2, L1, L2), z2)"
   ]
  },
  {
   "cell_type": "code",
   "execution_count": 19,
   "id": "1e04e5c3",
   "metadata": {},
   "outputs": [
    {
     "data": {
      "text/plain": [
       "<function _lambdifygenerated(_Dummy_23, _Dummy_22, _Dummy_25, _Dummy_24, L1, L2)>"
      ]
     },
     "execution_count": 19,
     "metadata": {},
     "output_type": "execute_result"
    }
   ],
   "source": [
    "x1_f"
   ]
  },
  {
   "cell_type": "code",
   "execution_count": 20,
   "id": "8fb25c44",
   "metadata": {},
   "outputs": [
    {
     "data": {
      "text/plain": [
       "<function _lambdifygenerated(_Dummy_39, _Dummy_38, _Dummy_41, _Dummy_40, L1, L2)>"
      ]
     },
     "execution_count": 20,
     "metadata": {},
     "output_type": "execute_result"
    }
   ],
   "source": [
    "y2_f"
   ]
  },
  {
   "cell_type": "code",
   "execution_count": 21,
   "id": "d3d6c4d4",
   "metadata": {},
   "outputs": [],
   "source": [
    "T1 = smp.Rational(1,2) * m1 * (smp.diff(x1, t)**2 + smp.diff(y1, t)**2 + smp.diff(z1, t)**2)\n",
    "T2 = smp.Rational(1,2) * m2 * (smp.diff(x2, t)**2 + smp.diff(y2, t)**2 + smp.diff(z2, t)**2)\n",
    "T = T1+T2\n",
    "# Potential\n",
    "V1 = m1*g*z1\n",
    "V2 = m2*g*z2\n",
    "V = V1 + V2\n",
    "# Lagrangian\n",
    "L = T-V\n"
   ]
  },
  {
   "cell_type": "code",
   "execution_count": 25,
   "id": "c97b68b1",
   "metadata": {},
   "outputs": [
    {
     "data": {
      "text/latex": [
       "$\\displaystyle L_{1} g m_{1} \\cos{\\left(\\theta_{1}{\\left(t \\right)} \\right)} - g m_{2} \\left(- L_{1} \\cos{\\left(\\theta_{1}{\\left(t \\right)} \\right)} - L_{2} \\cos{\\left(\\theta_{2}{\\left(t \\right)} \\right)}\\right) + \\frac{m_{1} \\left(L_{1}^{2} \\sin^{2}{\\left(\\theta_{1}{\\left(t \\right)} \\right)} \\left(\\frac{d}{d t} \\theta_{1}{\\left(t \\right)}\\right)^{2} + \\left(- L_{1} \\sin{\\left(\\phi_{1}{\\left(t \\right)} \\right)} \\sin{\\left(\\theta_{1}{\\left(t \\right)} \\right)} \\frac{d}{d t} \\phi_{1}{\\left(t \\right)} + L_{1} \\cos{\\left(\\phi_{1}{\\left(t \\right)} \\right)} \\cos{\\left(\\theta_{1}{\\left(t \\right)} \\right)} \\frac{d}{d t} \\theta_{1}{\\left(t \\right)}\\right)^{2} + \\left(L_{1} \\sin{\\left(\\phi_{1}{\\left(t \\right)} \\right)} \\cos{\\left(\\theta_{1}{\\left(t \\right)} \\right)} \\frac{d}{d t} \\theta_{1}{\\left(t \\right)} + L_{1} \\sin{\\left(\\theta_{1}{\\left(t \\right)} \\right)} \\cos{\\left(\\phi_{1}{\\left(t \\right)} \\right)} \\frac{d}{d t} \\phi_{1}{\\left(t \\right)}\\right)^{2}\\right)}{2} + \\frac{m_{2} \\left(\\left(L_{1} \\sin{\\left(\\theta_{1}{\\left(t \\right)} \\right)} \\frac{d}{d t} \\theta_{1}{\\left(t \\right)} + L_{2} \\sin{\\left(\\theta_{2}{\\left(t \\right)} \\right)} \\frac{d}{d t} \\theta_{2}{\\left(t \\right)}\\right)^{2} + \\left(- L_{1} \\sin{\\left(\\phi_{1}{\\left(t \\right)} \\right)} \\sin{\\left(\\theta_{1}{\\left(t \\right)} \\right)} \\frac{d}{d t} \\phi_{1}{\\left(t \\right)} + L_{1} \\cos{\\left(\\phi_{1}{\\left(t \\right)} \\right)} \\cos{\\left(\\theta_{1}{\\left(t \\right)} \\right)} \\frac{d}{d t} \\theta_{1}{\\left(t \\right)} - L_{2} \\sin{\\left(\\phi_{2}{\\left(t \\right)} \\right)} \\sin{\\left(\\theta_{2}{\\left(t \\right)} \\right)} \\frac{d}{d t} \\phi_{2}{\\left(t \\right)} + L_{2} \\cos{\\left(\\phi_{2}{\\left(t \\right)} \\right)} \\cos{\\left(\\theta_{2}{\\left(t \\right)} \\right)} \\frac{d}{d t} \\theta_{2}{\\left(t \\right)}\\right)^{2} + \\left(L_{1} \\sin{\\left(\\phi_{1}{\\left(t \\right)} \\right)} \\cos{\\left(\\theta_{1}{\\left(t \\right)} \\right)} \\frac{d}{d t} \\theta_{1}{\\left(t \\right)} + L_{1} \\sin{\\left(\\theta_{1}{\\left(t \\right)} \\right)} \\cos{\\left(\\phi_{1}{\\left(t \\right)} \\right)} \\frac{d}{d t} \\phi_{1}{\\left(t \\right)} + L_{2} \\sin{\\left(\\phi_{2}{\\left(t \\right)} \\right)} \\cos{\\left(\\theta_{2}{\\left(t \\right)} \\right)} \\frac{d}{d t} \\theta_{2}{\\left(t \\right)} + L_{2} \\sin{\\left(\\theta_{2}{\\left(t \\right)} \\right)} \\cos{\\left(\\phi_{2}{\\left(t \\right)} \\right)} \\frac{d}{d t} \\phi_{2}{\\left(t \\right)}\\right)^{2}\\right)}{2}$"
      ],
      "text/plain": [
       "L1*g*m1*cos(\\theta_1(t)) - g*m2*(-L1*cos(\\theta_1(t)) - L2*cos(\\theta_2(t))) + m1*(L1**2*sin(\\theta_1(t))**2*Derivative(\\theta_1(t), t)**2 + (-L1*sin(\\phi_1(t))*sin(\\theta_1(t))*Derivative(\\phi_1(t), t) + L1*cos(\\phi_1(t))*cos(\\theta_1(t))*Derivative(\\theta_1(t), t))**2 + (L1*sin(\\phi_1(t))*cos(\\theta_1(t))*Derivative(\\theta_1(t), t) + L1*sin(\\theta_1(t))*cos(\\phi_1(t))*Derivative(\\phi_1(t), t))**2)/2 + m2*((L1*sin(\\theta_1(t))*Derivative(\\theta_1(t), t) + L2*sin(\\theta_2(t))*Derivative(\\theta_2(t), t))**2 + (-L1*sin(\\phi_1(t))*sin(\\theta_1(t))*Derivative(\\phi_1(t), t) + L1*cos(\\phi_1(t))*cos(\\theta_1(t))*Derivative(\\theta_1(t), t) - L2*sin(\\phi_2(t))*sin(\\theta_2(t))*Derivative(\\phi_2(t), t) + L2*cos(\\phi_2(t))*cos(\\theta_2(t))*Derivative(\\theta_2(t), t))**2 + (L1*sin(\\phi_1(t))*cos(\\theta_1(t))*Derivative(\\theta_1(t), t) + L1*sin(\\theta_1(t))*cos(\\phi_1(t))*Derivative(\\phi_1(t), t) + L2*sin(\\phi_2(t))*cos(\\theta_2(t))*Derivative(\\theta_2(t), t) + L2*sin(\\theta_2(t))*cos(\\phi_2(t))*Derivative(\\phi_2(t), t))**2)/2"
      ]
     },
     "execution_count": 25,
     "metadata": {},
     "output_type": "execute_result"
    }
   ],
   "source": [
    "#L"
   ]
  },
  {
   "cell_type": "code",
   "execution_count": 22,
   "id": "88203284",
   "metadata": {},
   "outputs": [],
   "source": [
    "LE1 = smp.diff(L, the1) - smp.diff(smp.diff(L, the1_d), t).simplify()\n",
    "LE2 = smp.diff(L, the2) - smp.diff(smp.diff(L, the2_d), t).simplify()"
   ]
  },
  {
   "cell_type": "code",
   "execution_count": 23,
   "id": "bb0e8b99",
   "metadata": {},
   "outputs": [],
   "source": [
    "LE3 = smp.diff(L, phi1) - smp.diff(smp.diff(L, phi1_d), t).simplify()\n",
    "LE4 = smp.diff(L, phi2) - smp.diff(smp.diff(L, phi2_d), t).simplify()"
   ]
  },
  {
   "cell_type": "code",
   "execution_count": 26,
   "id": "8ff5cea4",
   "metadata": {},
   "outputs": [],
   "source": [
    "#LE1"
   ]
  },
  {
   "cell_type": "code",
   "execution_count": 24,
   "id": "af55bdb6",
   "metadata": {},
   "outputs": [],
   "source": [
    "sols = smp.solve([LE1, LE2, LE3, LE4], (the1_dd, the2_dd, phi1_dd, phi2_dd),simplify=False, rational=False)"
   ]
  },
  {
   "cell_type": "code",
   "execution_count": 25,
   "id": "06bf9052",
   "metadata": {},
   "outputs": [],
   "source": [
    "#sols"
   ]
  },
  {
   "cell_type": "code",
   "execution_count": 26,
   "id": "c71c6dcd",
   "metadata": {},
   "outputs": [],
   "source": [
    "#sols[the1_dd]"
   ]
  },
  {
   "cell_type": "code",
   "execution_count": 27,
   "id": "1df083ea",
   "metadata": {},
   "outputs": [],
   "source": [
    "do1dt_f = smp.lambdify((t,g,m1,m2,L1,L2,the1,the2,the1_d,the2_d,phi1,phi2,phi1_d,phi2_d), sols[the1_dd])\n",
    "do2dt_f = smp.lambdify((t,g,m1,m2,L1,L2,the1,the2,the1_d,the2_d,phi1,phi2,phi1_d,phi2_d), sols[the2_dd])\n",
    "dthe1dt_f = smp.lambdify(the1_d, the1_d)\n",
    "dthe2dt_f = smp.lambdify(the2_d, the2_d)\n",
    "\n",
    "dw1dt_f = smp.lambdify((t,g,m1,m2,L1,L2,the1,the2,the1_d,the2_d,phi1,phi2,phi1_d,phi2_d), sols[phi1_dd])\n",
    "dw2dt_f = smp.lambdify((t,g,m1,m2,L1,L2,the1,the2,the1_d,the2_d,phi1,phi2,phi1_d,phi2_d), sols[phi2_dd])\n",
    "dphi1dt_f = smp.lambdify(phi1_d, phi1_d)\n",
    "dphi2dt_f = smp.lambdify(phi2_d, phi2_d)\n"
   ]
  },
  {
   "cell_type": "code",
   "execution_count": 28,
   "id": "84fd017f",
   "metadata": {},
   "outputs": [
    {
     "data": {
      "text/plain": [
       "<function _lambdifygenerated(t, g, m1, m2, L1, L2, _Dummy_211, _Dummy_210, _Dummy_207, _Dummy_206, _Dummy_213, _Dummy_212, _Dummy_209, _Dummy_208)>"
      ]
     },
     "execution_count": 28,
     "metadata": {},
     "output_type": "execute_result"
    }
   ],
   "source": [
    "do1dt_f"
   ]
  },
  {
   "cell_type": "code",
   "execution_count": 29,
   "id": "236e68a1",
   "metadata": {},
   "outputs": [],
   "source": [
    "def dSdt(S, t, g, m1, m2, L1, L2):\n",
    "    the1, the2, phi1, phi2, o1, o2, w1, w2 = S\n",
    "    return [\n",
    "        dthe1dt_f(o1),\n",
    "        dthe2dt_f(o2),\n",
    "        dphi1dt_f(w1),\n",
    "        dphi2dt_f(w2),\n",
    "        do1dt_f(t, g, m1, m2, L1, L2, the1, the2, o1, o2, phi1, phi2, w1, w2),\n",
    "        do2dt_f(t, g, m1, m2, L1, L2, the1, the2, o1, o2, phi1, phi2, w1, w2),\n",
    "        dw1dt_f(t, g, m1, m2, L1, L2, the1, the2, o1, o2, phi1, phi2, w1, w2),\n",
    "        dw2dt_f(t, g, m1, m2, L1, L2, the1, the2, o1, o2, phi1, phi2, w1, w2),\n",
    "    ]\n"
   ]
  },
  {
   "cell_type": "code",
   "execution_count": 30,
   "id": "13ddd965",
   "metadata": {},
   "outputs": [
    {
     "data": {
      "text/plain": [
       "<function __main__.dSdt(S, t, g, m1, m2, L1, L2)>"
      ]
     },
     "execution_count": 30,
     "metadata": {},
     "output_type": "execute_result"
    }
   ],
   "source": [
    "dSdt"
   ]
  },
  {
   "cell_type": "code",
   "execution_count": null,
   "id": "f22d1efe",
   "metadata": {},
   "outputs": [],
   "source": []
  },
  {
   "cell_type": "code",
   "execution_count": null,
   "id": "34d4529a",
   "metadata": {},
   "outputs": [],
   "source": []
  },
  {
   "cell_type": "code",
   "execution_count": 31,
   "id": "adbc85b3",
   "metadata": {},
   "outputs": [],
   "source": [
    "t = np.linspace(0, 40, 1001)\n",
    "g = 9.81\n",
    "m1=2\n",
    "m2=1\n",
    "L1 = 2\n",
    "L2 = 1\n",
    "ans = odeint(dSdt, y0=[np.pi/3, np.pi/3, 0, -np.pi, 3, 10, -2, -10], t=t, args=(g,m1,m2,L1,L2))"
   ]
  },
  {
   "cell_type": "code",
   "execution_count": 32,
   "id": "5b8fde05",
   "metadata": {},
   "outputs": [
    {
     "data": {
      "text/plain": [
       "(1001, 8)"
      ]
     },
     "execution_count": 32,
     "metadata": {},
     "output_type": "execute_result"
    }
   ],
   "source": [
    "ans.shape\n"
   ]
  },
  {
   "cell_type": "code",
   "execution_count": 33,
   "id": "f643f407",
   "metadata": {},
   "outputs": [],
   "source": [
    "the1 = ans.T[0]\n",
    "the2 = ans.T[1]\n",
    "phi1 = ans.T[2]\n"
   ]
  },
  {
   "cell_type": "code",
   "execution_count": 34,
   "id": "114cfd67",
   "metadata": {},
   "outputs": [],
   "source": [
    "def get_pos(the1, the2, phi1, phi2, L1, L2):\n",
    "    return (x1_f(the1, the2, phi1, phi2, L1, L2),\n",
    "            y1_f(the1, the2, phi1, phi2, L1, L2),\n",
    "            z1_f(the1, the2, phi1, phi2, L1, L2),\n",
    "            x2_f(the1, the2, phi1, phi2, L1, L2),\n",
    "            y2_f(the1, the2, phi1, phi2, L1, L2),\n",
    "            z2_f(the1, the2, phi1, phi2, L1, L2))\n",
    "\n",
    "x1, y1, z1, x2, y2, z2 = get_pos(ans.T[0], ans.T[1], ans.T[2], ans.T[3], L1, L2)\n",
    "np.save('example', np.array([x1,y1,z1,x2,y2,z2]))"
   ]
  },
  {
   "cell_type": "code",
   "execution_count": 35,
   "id": "95c0f051",
   "metadata": {},
   "outputs": [
    {
     "name": "stdout",
     "output_type": "stream",
     "text": [
      "Collecting package metadata (current_repodata.json): ...working... done\n",
      "Solving environment: ...working... done\n",
      "\n",
      "## Package Plan ##\n",
      "\n",
      "  environment location: C:\\ANACONDA-\n",
      "\n",
      "  added / updated specs:\n",
      "    - vpython\n",
      "\n",
      "\n",
      "The following NEW packages will be INSTALLED:\n",
      "\n",
      "  sympy              pkgs/main/win-64::sympy-1.10.1-py39haa95532_0\n",
      "\n",
      "\n",
      "Preparing transaction: ...working... done\n",
      "Verifying transaction: ...working... done\n",
      "Executing transaction: ...working... done\n",
      "\n",
      "Note: you may need to restart the kernel to use updated packages.\n"
     ]
    },
    {
     "name": "stderr",
     "output_type": "stream",
     "text": [
      "\n",
      "The environment is inconsistent, please check the package plan carefully\n",
      "The following packages are causing the inconsistency:\n",
      "\n",
      "  - defaults/win-64::anaconda==custom=py39_1\n",
      "  - defaults/win-64::_anaconda_depends==2021.11=py39_0\n"
     ]
    }
   ],
   "source": [
    "conda install -c vpython vpython"
   ]
  },
  {
   "cell_type": "code",
   "execution_count": null,
   "id": "7d8537a6",
   "metadata": {
    "scrolled": true
   },
   "outputs": [
    {
     "data": {
      "text/html": [
       "<div id=\"glowscript\" class=\"glowscript\"></div>"
      ],
      "text/plain": [
       "<IPython.core.display.HTML object>"
      ]
     },
     "metadata": {},
     "output_type": "display_data"
    },
    {
     "data": {
      "application/javascript": [
       "if (typeof Jupyter !== \"undefined\") { window.__context = { glowscript_container: $(\"#glowscript\").removeAttr(\"id\")};}else{ element.textContent = ' ';}"
      ],
      "text/plain": [
       "<IPython.core.display.Javascript object>"
      ]
     },
     "metadata": {},
     "output_type": "display_data"
    },
    {
     "data": {
      "application/javascript": [
       "if (typeof Jupyter !== \"undefined\") {require.undef(\"nbextensions/vpython_libraries/glow.min\");}else{element.textContent = ' ';}"
      ],
      "text/plain": [
       "<IPython.core.display.Javascript object>"
      ]
     },
     "metadata": {},
     "output_type": "display_data"
    },
    {
     "data": {
      "application/javascript": [
       "if (typeof Jupyter !== \"undefined\") {require.undef(\"nbextensions/vpython_libraries/glowcomm\");}else{element.textContent = ' ';}"
      ],
      "text/plain": [
       "<IPython.core.display.Javascript object>"
      ]
     },
     "metadata": {},
     "output_type": "display_data"
    },
    {
     "data": {
      "application/javascript": [
       "if (typeof Jupyter !== \"undefined\") {require.undef(\"nbextensions/vpython_libraries/jquery-ui.custom.min\");}else{element.textContent = ' ';}"
      ],
      "text/plain": [
       "<IPython.core.display.Javascript object>"
      ]
     },
     "metadata": {},
     "output_type": "display_data"
    },
    {
     "data": {
      "application/javascript": [
       "if (typeof Jupyter !== \"undefined\") {require([\"nbextensions/vpython_libraries/glow.min\"], function(){console.log(\"GLOW LOADED\");});}else{element.textContent = ' ';}"
      ],
      "text/plain": [
       "<IPython.core.display.Javascript object>"
      ]
     },
     "metadata": {},
     "output_type": "display_data"
    },
    {
     "data": {
      "application/javascript": [
       "if (typeof Jupyter !== \"undefined\") {require([\"nbextensions/vpython_libraries/glowcomm\"], function(){console.log(\"GLOWCOMM LOADED\");});}else{element.textContent = ' ';}"
      ],
      "text/plain": [
       "<IPython.core.display.Javascript object>"
      ]
     },
     "metadata": {},
     "output_type": "display_data"
    },
    {
     "data": {
      "application/javascript": [
       "if (typeof Jupyter !== \"undefined\") {require([\"nbextensions/vpython_libraries/jquery-ui.custom.min\"], function(){console.log(\"JQUERY LOADED\");});}else{element.textContent = ' ';}"
      ],
      "text/plain": [
       "<IPython.core.display.Javascript object>"
      ]
     },
     "metadata": {},
     "output_type": "display_data"
    },
    {
     "name": "stdout",
     "output_type": "stream",
     "text": [
      "pendulum\n"
     ]
    }
   ],
   "source": [
    "import vpython\n",
    "from vpython import *\n",
    "import numpy as np\n",
    "\n",
    "x1, y1, z1, x2, y2, z2 = np.load('example.npy')\n",
    "ball1 = vpython.sphere(color = color.green, radius = 0.3, make_trail=True, retain=20)\n",
    "ball2 = vpython.sphere(color = color.blue, radius = 0.3, make_trail=True, retain=20)\n",
    "rod1 = cylinder(pos=vector(0,0,0),axis=vector(0,0,0), radius=0.05)\n",
    "rod2 = cylinder(pos=vector(0,0,0),axis=vector(0,0,0), radius=0.05)\n",
    "base  = box(pos=vector(0,-4.25,0),axis=vector(1,0,0),\n",
    "            size=vector(10,0.5,10) )\n",
    "s1 = cylinder(pos=vector(0,-3.99,0),axis=vector(0,-0.1,0), radius=0.8, color=color.gray(luminance=0.7))\n",
    "s2 = cylinder(pos=vector(0,-3.99,0),axis=vector(0,-0.1,0), radius=0.8, color=color.gray(luminance=0.7))\n",
    "\n",
    "print('pendulum')\n",
    "i = 0\n",
    "while True:\n",
    "    rate(30)\n",
    "    i = i + 1\n",
    "    i = i % len(x1)\n",
    "    ball1.pos = vector(x1[i], z1[i], y1[i])\n",
    "    ball2.pos = vector(x2[i], z2[i], y2[i])\n",
    "    rod1.axis = vector(x1[i], z1[i], y1[i])\n",
    "    rod2.pos = vector(x1[i], z1[i], y1[i])\n",
    "    rod2.axis = vector(x2[i]-x1[i], z2[i]-z1[i], y2[i]-y1[i])\n",
    "    s1.pos = vector(x1[i], -3.99, y1[i])\n",
    "    s2.pos = vector(x2[i], -3.99, y2[i])\n",
    "    \n",
    "    \n",
    "    "
   ]
  },
  {
   "cell_type": "code",
   "execution_count": null,
   "id": "5e9e7be1",
   "metadata": {},
   "outputs": [],
   "source": []
  }
 ],
 "metadata": {
  "kernelspec": {
   "display_name": "Python 3 (ipykernel)",
   "language": "python",
   "name": "python3"
  },
  "language_info": {
   "codemirror_mode": {
    "name": "ipython",
    "version": 3
   },
   "file_extension": ".py",
   "mimetype": "text/x-python",
   "name": "python",
   "nbconvert_exporter": "python",
   "pygments_lexer": "ipython3",
   "version": "3.9.7"
  }
 },
 "nbformat": 4,
 "nbformat_minor": 5
}
